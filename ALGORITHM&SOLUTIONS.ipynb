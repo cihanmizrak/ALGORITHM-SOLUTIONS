{
 "cells": [
  {
   "cell_type": "markdown",
   "id": "c6b3640d-f4f4-4894-8544-8d6a225100d1",
   "metadata": {
    "tags": []
   },
   "source": [
    "## ALGORITHM & SOLUTIONS"
   ]
  },
  {
   "cell_type": "markdown",
   "id": "b9152005-8698-423c-883f-946722195616",
   "metadata": {
    "tags": []
   },
   "source": [
    "### 1- Create phone book and query"
   ]
  },
  {
   "cell_type": "code",
   "execution_count": 106,
   "id": "5d217814-8705-47db-b210-9bedaf6032ee",
   "metadata": {
    "collapsed": true,
    "jupyter": {
     "outputs_hidden": true
    },
    "tags": []
   },
   "outputs": [
    {
     "name": "stdin",
     "output_type": "stream",
     "text": [
      " 3\n",
      " jack 1234\n",
      " sam 3421\n",
      " john 4531\n",
      " jack\n"
     ]
    },
    {
     "name": "stdout",
     "output_type": "stream",
     "text": [
      "jack=1234\n"
     ]
    },
    {
     "name": "stdin",
     "output_type": "stream",
     "text": [
      " sam\n"
     ]
    },
    {
     "name": "stdout",
     "output_type": "stream",
     "text": [
      "sam=3421\n"
     ]
    },
    {
     "name": "stdin",
     "output_type": "stream",
     "text": [
      " holly\n"
     ]
    },
    {
     "name": "stdout",
     "output_type": "stream",
     "text": [
      "Not found\n"
     ]
    },
    {
     "ename": "KeyboardInterrupt",
     "evalue": "Interrupted by user",
     "output_type": "error",
     "traceback": [
      "\u001b[1;31m---------------------------------------------------------------------------\u001b[0m",
      "\u001b[1;31mKeyboardInterrupt\u001b[0m                         Traceback (most recent call last)",
      "Input \u001b[1;32mIn [106]\u001b[0m, in \u001b[0;36m<cell line: 15>\u001b[1;34m()\u001b[0m\n\u001b[0;32m     14\u001b[0m \u001b[38;5;28;01mwhile\u001b[39;00m \u001b[38;5;28;01mTrue\u001b[39;00m:\n\u001b[0;32m     15\u001b[0m     \u001b[38;5;28;01mtry\u001b[39;00m:\n\u001b[1;32m---> 16\u001b[0m         query \u001b[38;5;241m=\u001b[39m \u001b[38;5;28;43minput\u001b[39;49m\u001b[43m(\u001b[49m\u001b[43m)\u001b[49m\n\u001b[0;32m     18\u001b[0m         \u001b[38;5;28;01mif\u001b[39;00m query \u001b[38;5;129;01min\u001b[39;00m phone_book:\n\u001b[0;32m     19\u001b[0m             \u001b[38;5;28mprint\u001b[39m(\u001b[38;5;124mf\u001b[39m\u001b[38;5;124m\"\u001b[39m\u001b[38;5;132;01m{\u001b[39;00mquery\u001b[38;5;132;01m}\u001b[39;00m\u001b[38;5;124m=\u001b[39m\u001b[38;5;132;01m{\u001b[39;00mphone_book[query]\u001b[38;5;132;01m}\u001b[39;00m\u001b[38;5;124m\"\u001b[39m)\n",
      "File \u001b[1;32m~\\anaconda3\\lib\\site-packages\\ipykernel\\kernelbase.py:1075\u001b[0m, in \u001b[0;36mKernel.raw_input\u001b[1;34m(self, prompt)\u001b[0m\n\u001b[0;32m   1071\u001b[0m \u001b[38;5;28;01mif\u001b[39;00m \u001b[38;5;129;01mnot\u001b[39;00m \u001b[38;5;28mself\u001b[39m\u001b[38;5;241m.\u001b[39m_allow_stdin:\n\u001b[0;32m   1072\u001b[0m     \u001b[38;5;28;01mraise\u001b[39;00m StdinNotImplementedError(\n\u001b[0;32m   1073\u001b[0m         \u001b[38;5;124m\"\u001b[39m\u001b[38;5;124mraw_input was called, but this frontend does not support input requests.\u001b[39m\u001b[38;5;124m\"\u001b[39m\n\u001b[0;32m   1074\u001b[0m     )\n\u001b[1;32m-> 1075\u001b[0m \u001b[38;5;28;01mreturn\u001b[39;00m \u001b[38;5;28;43mself\u001b[39;49m\u001b[38;5;241;43m.\u001b[39;49m\u001b[43m_input_request\u001b[49m\u001b[43m(\u001b[49m\n\u001b[0;32m   1076\u001b[0m \u001b[43m    \u001b[49m\u001b[38;5;28;43mstr\u001b[39;49m\u001b[43m(\u001b[49m\u001b[43mprompt\u001b[49m\u001b[43m)\u001b[49m\u001b[43m,\u001b[49m\n\u001b[0;32m   1077\u001b[0m \u001b[43m    \u001b[49m\u001b[38;5;28;43mself\u001b[39;49m\u001b[38;5;241;43m.\u001b[39;49m\u001b[43m_parent_ident\u001b[49m\u001b[43m[\u001b[49m\u001b[38;5;124;43m\"\u001b[39;49m\u001b[38;5;124;43mshell\u001b[39;49m\u001b[38;5;124;43m\"\u001b[39;49m\u001b[43m]\u001b[49m\u001b[43m,\u001b[49m\n\u001b[0;32m   1078\u001b[0m \u001b[43m    \u001b[49m\u001b[38;5;28;43mself\u001b[39;49m\u001b[38;5;241;43m.\u001b[39;49m\u001b[43mget_parent\u001b[49m\u001b[43m(\u001b[49m\u001b[38;5;124;43m\"\u001b[39;49m\u001b[38;5;124;43mshell\u001b[39;49m\u001b[38;5;124;43m\"\u001b[39;49m\u001b[43m)\u001b[49m\u001b[43m,\u001b[49m\n\u001b[0;32m   1079\u001b[0m \u001b[43m    \u001b[49m\u001b[43mpassword\u001b[49m\u001b[38;5;241;43m=\u001b[39;49m\u001b[38;5;28;43;01mFalse\u001b[39;49;00m\u001b[43m,\u001b[49m\n\u001b[0;32m   1080\u001b[0m \u001b[43m\u001b[49m\u001b[43m)\u001b[49m\n",
      "File \u001b[1;32m~\\anaconda3\\lib\\site-packages\\ipykernel\\kernelbase.py:1120\u001b[0m, in \u001b[0;36mKernel._input_request\u001b[1;34m(self, prompt, ident, parent, password)\u001b[0m\n\u001b[0;32m   1117\u001b[0m             \u001b[38;5;28;01mbreak\u001b[39;00m\n\u001b[0;32m   1118\u001b[0m \u001b[38;5;28;01mexcept\u001b[39;00m \u001b[38;5;167;01mKeyboardInterrupt\u001b[39;00m:\n\u001b[0;32m   1119\u001b[0m     \u001b[38;5;66;03m# re-raise KeyboardInterrupt, to truncate traceback\u001b[39;00m\n\u001b[1;32m-> 1120\u001b[0m     \u001b[38;5;28;01mraise\u001b[39;00m \u001b[38;5;167;01mKeyboardInterrupt\u001b[39;00m(\u001b[38;5;124m\"\u001b[39m\u001b[38;5;124mInterrupted by user\u001b[39m\u001b[38;5;124m\"\u001b[39m) \u001b[38;5;28;01mfrom\u001b[39;00m \u001b[38;5;28mNone\u001b[39m\n\u001b[0;32m   1121\u001b[0m \u001b[38;5;28;01mexcept\u001b[39;00m \u001b[38;5;167;01mException\u001b[39;00m:\n\u001b[0;32m   1122\u001b[0m     \u001b[38;5;28mself\u001b[39m\u001b[38;5;241m.\u001b[39mlog\u001b[38;5;241m.\u001b[39mwarning(\u001b[38;5;124m\"\u001b[39m\u001b[38;5;124mInvalid Message:\u001b[39m\u001b[38;5;124m\"\u001b[39m, exc_info\u001b[38;5;241m=\u001b[39m\u001b[38;5;28;01mTrue\u001b[39;00m)\n",
      "\u001b[1;31mKeyboardInterrupt\u001b[0m: Interrupted by user"
     ]
    }
   ],
   "source": [
    "# Read the number of entries in the phone book\n",
    "n = int(input())\n",
    "\n",
    "# Create an empty phone book dictionary\n",
    "phone_book = {}\n",
    "\n",
    "# Populate the phone book\n",
    "for i in range(n):\n",
    "    entry = input().split()\n",
    "    name, phone_number = entry[0], entry[1]\n",
    "    phone_book[name] = phone_number\n",
    "\n",
    "# Process queries\n",
    "while True:\n",
    "    try:\n",
    "        query = input()\n",
    "        \n",
    "        if query in phone_book:\n",
    "            print(f\"{query}={phone_book[query]}\")\n",
    "        else:\n",
    "            print(\"Not found\")\n",
    "    except EOFError:\n",
    "        break\n",
    "        \n"
   ]
  },
  {
   "cell_type": "markdown",
   "id": "54c3db0a-f0ea-4b85-bc76-269f0ca3a3ab",
   "metadata": {},
   "source": [
    "### 2- Algorithm that finds the mean, median and mode of the values in the list"
   ]
  },
  {
   "cell_type": "code",
   "execution_count": 7,
   "id": "70d95bd6-3d78-4617-9cb6-607d52d0efac",
   "metadata": {},
   "outputs": [
    {
     "name": "stdin",
     "output_type": "stream",
     "text": [
      " 12\n",
      " 1231\n"
     ]
    },
    {
     "name": "stdout",
     "output_type": "stream",
     "text": [
      "102.58333333333333\n",
      "1231\n",
      "[1231]\n"
     ]
    }
   ],
   "source": [
    "def mean(list,n):\n",
    "    sum = 0\n",
    "    for i in list:\n",
    "        sum+=i\n",
    "    return sum/n\n",
    "        \n",
    "def median(list):\n",
    "    list.sort()\n",
    "    n = len(list)\n",
    "\n",
    "    if n % 2 == 1:\n",
    "        return list[n // 2]\n",
    "    else: \n",
    "        return (list[n // 2 - 1] + list[n // 2]) / 2\n",
    "\n",
    "def mode(data):\n",
    "    \n",
    "    data_dict = {}\n",
    "    \n",
    "    \n",
    "    for item in data:\n",
    "        if item in data_dict:\n",
    "            data_dict[item] += 1\n",
    "        else:\n",
    "            data_dict[item] = 1\n",
    "\n",
    "    # mode\n",
    "    max_count = max(data_dict.values())\n",
    "    mode_list = [key for key, value in data_dict.items() if value == max_count]\n",
    "\n",
    "    return mode_list\n",
    "    \n",
    "my_list = []\n",
    "n = int(input())\n",
    "my_list.extend([int(x) for x in input().split()])\n",
    "print(mean(my_list,n))\n",
    "print(median(my_list))\n",
    "print(mode(my_list))\n",
    "    "
   ]
  },
  {
   "cell_type": "markdown",
   "id": "831e2743-ce0f-46be-aa1a-5db96eea9cb1",
   "metadata": {},
   "source": [
    "### 3- Find Qartiles"
   ]
  },
  {
   "cell_type": "code",
   "execution_count": 5,
   "id": "506332eb-86d1-4ed3-8a3a-8a91adf1aee3",
   "metadata": {},
   "outputs": [
    {
     "name": "stdin",
     "output_type": "stream",
     "text": [
      " 9\n",
      " 1 3 4 5 \n"
     ]
    },
    {
     "name": "stdout",
     "output_type": "stream",
     "text": [
      "2\n",
      "3\n",
      "4\n"
     ]
    }
   ],
   "source": [
    "def quartiles(arr):\n",
    "    arr.sort()\n",
    "    n = len(arr)\n",
    "    \n",
    "    # Calculate Q2 (median)\n",
    "    if n % 2 == 1:\n",
    "        q2 = arr[n // 2]\n",
    "        lower_half = arr[:n // 2]\n",
    "        upper_half = arr[n // 2 + 1:]\n",
    "    else:\n",
    "        q2 = (arr[n // 2 - 1] + arr[n // 2]) / 2\n",
    "        lower_half = arr[:n // 2]\n",
    "        upper_half = arr[n // 2:]\n",
    "    \n",
    "    # Calculate Q1 (median of lower half)\n",
    "    n_lower = len(lower_half)\n",
    "    if n_lower % 2 == 1:\n",
    "        q1 = lower_half[n_lower // 2]\n",
    "    else:\n",
    "        q1 = (lower_half[n_lower // 2 - 1] + lower_half[n_lower // 2]) / 2\n",
    "    \n",
    "    # Calculate Q3 (median of upper half)\n",
    "    n_upper = len(upper_half)\n",
    "    if n_upper % 2 == 1:\n",
    "        q3 = upper_half[n_upper // 2]\n",
    "    else:\n",
    "        q3 = (upper_half[n_upper // 2 - 1] + upper_half[n_upper // 2]) / 2\n",
    "    \n",
    "    return int(q1), int(q2), int(q3)\n",
    "\n",
    "if __name__ == \"__main__\":\n",
    "    n = int(input())\n",
    "    data = list(map(int,input().rstrip().split()))\n",
    "    q1,q2,q3 = quartiles(data)\n",
    "    print(q1)\n",
    "    print(q2)\n",
    "    print(q3)\n",
    "    "
   ]
  },
  {
   "cell_type": "markdown",
   "id": "46a88010-e00e-44d3-87c8-45108ec8db36",
   "metadata": {},
   "source": [
    "### 4- In a single toss of 2 fair (evenly-weighted) six-sided dice, find the probability that the values rolled by each die will be different and the two dice have a sum of 6 ."
   ]
  },
  {
   "cell_type": "code",
   "execution_count": 107,
   "id": "3a1de9bb-6c37-43ab-8826-5ede42716586",
   "metadata": {},
   "outputs": [
    {
     "name": "stdout",
     "output_type": "stream",
     "text": [
      "1/9\n"
     ]
    }
   ],
   "source": [
    "from fractions import Fraction\n",
    "\n",
    "prop = []\n",
    "s = 0\n",
    "for i in range(1,7):\n",
    "    for j in range(1,7):\n",
    "        s+=1\n",
    "        if (i+j)==6 and i!=j:\n",
    "            prop.append((i,j))\n",
    "            \n",
    "print(Fraction(len(prop), s))\n"
   ]
  },
  {
   "cell_type": "markdown",
   "id": "a70c2278-949c-4654-bc4f-9c1ffc7fccb3",
   "metadata": {
    "tags": []
   },
   "source": [
    "### 5- The task is to find their comparison points by comparing a[0] with b[0], a[1] with b[1], and a[2] with b[2].\n",
    "\n",
    "    If a[i] > b[i], then Alice is awarded 1 point.\n",
    "    If a[i] < b[i], then Bob is awarded 1 point.\n",
    "    If a[i] = b[i], then neither person receives a point.\n",
    "    Comparison points is the total points a person earned.\n",
    "\n",
    "    Given a and b, determine their respective comparison points."
   ]
  },
  {
   "cell_type": "code",
   "execution_count": 79,
   "id": "988675a1-69ac-407c-9b0a-8b8c35cbbbed",
   "metadata": {},
   "outputs": [
    {
     "name": "stdin",
     "output_type": "stream",
     "text": [
      " 1 2 3\n",
      " 3 2 2\n"
     ]
    },
    {
     "name": "stdout",
     "output_type": "stream",
     "text": [
      "[1, 1]\n"
     ]
    }
   ],
   "source": [
    "def compareTriplets(a, b):\n",
    "    alice = 0\n",
    "    bob = 0\n",
    "\n",
    "    def alicegetpoint():\n",
    "        nonlocal alice\n",
    "        alice += 1\n",
    "\n",
    "    def bobgetpoint():\n",
    "        nonlocal bob\n",
    "        bob += 1\n",
    "\n",
    "    for i in range(len(a)):\n",
    "        if a[i] > b[i]:\n",
    "            alicegetpoint()\n",
    "        elif a[i] < b[i]:\n",
    "            bobgetpoint()\n",
    "    \n",
    "    return [alice, bob]\n",
    "\n",
    "if __name__ == '__main__':\n",
    "    a = list(map(int, input().rstrip().split()))\n",
    "    b = list(map(int, input().rstrip().split()))\n",
    "    result = compareTriplets(a, b)\n",
    "    print(result)\n"
   ]
  },
  {
   "cell_type": "markdown",
   "id": "95000b09-69db-4402-8b6f-5950f7bb7ac7",
   "metadata": {},
   "source": [
    "### 6- Calculate the hourglass sum for every hourglass in MATRIX"
   ]
  },
  {
   "cell_type": "code",
   "execution_count": 100,
   "id": "0a6c2286-2828-4535-9a61-331669788e55",
   "metadata": {},
   "outputs": [
    {
     "name": "stdout",
     "output_type": "stream",
     "text": [
      "19\n"
     ]
    }
   ],
   "source": [
    "\"\"\"\n",
    "1 1 1   1 1 0   1 0 0   0 0 0\n",
    "  1       0       0       0\n",
    "1 1 1   1 1 0   1 0 0   0 0 0\n",
    "\n",
    "0 1 0   1 0 0   0 0 0   0 0 0\n",
    "  1       1       0       0\n",
    "0 0 2   0 2 4   2 4 4   4 4 0\n",
    "\n",
    "1 1 1   1 1 0   1 0 0   0 0 0\n",
    "  0       2       4       4\n",
    "0 0 0   0 0 2   0 2 0   2 0 0\n",
    "\n",
    "0 0 2   0 2 4   2 4 4   4 4 0\n",
    "  0       0       2       0\n",
    "0 0 1   0 1 2   1 2 4   2 4 0\n",
    "\n",
    "\n",
    "max sum :19\n",
    "\n",
    "submatrix :\n",
    "\n",
    "2 4 4\n",
    "  2\n",
    "1 2 4\n",
    "\"\"\"\n",
    "\n",
    "\n",
    "\n",
    "matrix = []\n",
    "\n",
    "for _ in range(6):\n",
    "    matrix.append(list(map(int, input().rstrip().split())))\n",
    "\n",
    "\"\"\"\n",
    "EXAMPLE\n",
    " 1 1 1 0 0 0\n",
    " 0 1 0 0 0 0\n",
    " 1 1 1 0 0 0\n",
    " 0 0 2 4 4 0\n",
    " 0 0 0 2 0 0 \n",
    " 0 0 1 2 4 0\n",
    "\"\"\"\n",
    "\n",
    "def submatrix_sum(submatrix):\n",
    "    total = 0\n",
    "    \n",
    "    for row in range(len(submatrix)):\n",
    "        if row == 1:\n",
    "            submatrix[row][0] = 0\n",
    "            submatrix[row][2] = 0\n",
    "        total += sum(submatrix[row])\n",
    "    return total\n",
    "\n",
    "\n",
    "sums = []\n",
    "for i in range(4):  # 6 - 3 + 1 = 4 rows\n",
    "    for j in range(4):  # 6 - 3 + 1 = 4 columns\n",
    "        # Extract submatrices\n",
    "        submatrix = [\n",
    "            [matrix[i][j], matrix[i][j+1], matrix[i][j+2]],\n",
    "            [matrix[i+1][j], matrix[i+1][j+1], matrix[i+1][j+2]],\n",
    "            [matrix[i+2][j], matrix[i+2][j+1], matrix[i+2][j+2]]\n",
    "        ]\n",
    "        \n",
    "        sums.append(submatrix_sum(submatrix))\n",
    "        \n",
    "print(\"max sum:\", max(sums))"
   ]
  },
  {
   "cell_type": "markdown",
   "id": "5296256b-23af-4e20-a60c-7d88103c62d3",
   "metadata": {},
   "source": [
    "### 7- Time Conservation"
   ]
  },
  {
   "cell_type": "code",
   "execution_count": 122,
   "id": "70557f25-3f9b-43ea-a6d2-85c68af83df7",
   "metadata": {},
   "outputs": [
    {
     "name": "stdin",
     "output_type": "stream",
     "text": [
      " 12:01:00PM\n"
     ]
    },
    {
     "name": "stdout",
     "output_type": "stream",
     "text": [
      "12:01:00\n"
     ]
    }
   ],
   "source": [
    "\"\"\"\n",
    "\n",
    "a = \"12:01:00PM\"\n",
    "Return '12:01:00'.\n",
    "\n",
    "a = \"12:01:00AM\"\n",
    "Return '00:01:00'.\n",
    "\n",
    "\"\"\"\n",
    "\n",
    "\n",
    "def timeConversion(a):\n",
    "    \n",
    "    hour = int(a[:2])\n",
    "\n",
    "    if hour!=12 and a[-2:]==\"PM\":\n",
    "        hour +=12\n",
    "        a = str(hour) + a[2:-2] + \"PM\"\n",
    "\n",
    "    elif a[-2:]==\"AM\":\n",
    "\n",
    "        if hour == 12:\n",
    "            hour = 0\n",
    "            a = \"0\" + str(hour) + a[2:-2] + \"AM\"\n",
    "\n",
    "    print(a[:len(a)-2])\n",
    "\n",
    "\n",
    "if __name__ == \"__main__\":\n",
    "    a = input()\n",
    "    timeConversion(a)"
   ]
  },
  {
   "cell_type": "markdown",
   "id": "4b77f568-96b2-4c37-8ffd-cd66552b5495",
   "metadata": {},
   "source": [
    "### 8- Birthday Cake Candles\n",
    "    candies = [4,4,1,3]\n",
    "    The max height candies are 4 units high, There are 2 of them, so return 2."
   ]
  },
  {
   "cell_type": "code",
   "execution_count": 22,
   "id": "fcf71c9b-5bae-4a91-b740-ccd8acbadc2f",
   "metadata": {},
   "outputs": [
    {
     "name": "stdin",
     "output_type": "stream",
     "text": [
      " 82 49 82 82 41 82 15 63 38 25\n"
     ]
    },
    {
     "name": "stdout",
     "output_type": "stream",
     "text": [
      "4\n"
     ]
    }
   ],
   "source": [
    "def birthdayCakeCandles(candles):\n",
    "    c = sorted(candles)[::-1] #reverse the list\n",
    "    count = 0\n",
    "    t = c[0]\n",
    "    for i in candles:\n",
    "        if t ==i:\n",
    "            count +=1\n",
    "    print(count)\n",
    "    \n",
    "if __name__ == '__main__': \n",
    "    candles = list(map(int,input().rstrip().split()))\n",
    "    birthdayCakeCandles(candles)\n"
   ]
  },
  {
   "cell_type": "markdown",
   "id": "f1b14a6a-fcd8-4596-8d87-3a98e1236673",
   "metadata": {},
   "source": [
    "### 9-Grading Students"
   ]
  },
  {
   "cell_type": "markdown",
   "id": "70683c2d-d3c2-423b-a9a7-cf319556d0d6",
   "metadata": {},
   "source": [
    "    If the difference between the grade and the next multiple of 5 is less than 3, round grade up to the next multiple of 5.\n",
    "    If the value of grade is less than 38, no rounding occurs as the result will still be a failing grade."
   ]
  },
  {
   "cell_type": "code",
   "execution_count": 91,
   "id": "c9b637e0-37dc-4e3e-814b-5984050ab54f",
   "metadata": {},
   "outputs": [
    {
     "name": "stdin",
     "output_type": "stream",
     "text": [
      " 2\n",
      " 38\n",
      " 40\n"
     ]
    },
    {
     "name": "stdout",
     "output_type": "stream",
     "text": [
      "40\n",
      "40\n"
     ]
    }
   ],
   "source": [
    "def gradingStudents(arr):\n",
    "    for i in arr:    \n",
    "        num = i\n",
    "        tens_place = num//10\n",
    "        ones_place = num - tens_place*10\n",
    "\n",
    "\n",
    "        if num>37 and ones_place<5:\n",
    "            new_num = int(f\"{tens_place}5\")\n",
    "            if new_num-num<3:\n",
    "                num=new_num\n",
    "                print(num) \n",
    "            else:\n",
    "                print(num)\n",
    "        elif num>37 and ones_place>5:\n",
    "            new_num = int(f\"{tens_place+1}0\")\n",
    "            if new_num-num<3:\n",
    "                num=new_num\n",
    "                print(num)\n",
    "            else:\n",
    "                print(num)\n",
    "        else:\n",
    "            print(num)\n",
    "    \n",
    "\n",
    "\n",
    "if __name__ == \"__main__\":\n",
    "    n = int(input())\n",
    "    arr = []\n",
    "    for i in range(n):\n",
    "        arr.append(int(input()))\n",
    "    gradingStudents(arr)\n",
    "    "
   ]
  },
  {
   "cell_type": "markdown",
   "id": "47f0a67e-77f5-445d-a932-7ba3e0496c06",
   "metadata": {},
   "source": [
    "### 10- Inheritance"
   ]
  },
  {
   "attachments": {
    "d7478c35-62d9-4723-8e5f-31eb4afe527a.png": {
     "image/png": "[encoded data removed]"
    }
   },
   "cell_type": "markdown",
   "id": "5f79df5e-9430-4b66-b496-d2282289d20f",
   "metadata": {},
   "source": [
    "    You are given two classes, Person and Student, where Person is the base class and Student is the derived class. Completed code for Person and a declaration for Student are provided for you in the editor. Observe that Student inherits all the properties of Person.\n",
    "A char calculate() method that calculates a Student object's average and returns the grade character represent)ative of their calculated average: \n",
    "   ![1458142706-3073bc9143-Grading.png](attachment:d7478c35-62d9-4723-8e5f-31eb4afe527a.png)\n",
    "    \n",
    "    Complete the Student class by writing the following:\n",
    "\n",
    "    A Student class constructor, which has 4 parameters:\n",
    "    A string, firstName .\n",
    "    A string, lastName .\n",
    "    An integer, idNumber .\n",
    "    An integer array (or vector) of test scores,scores."
   ]
  },
  {
   "cell_type": "code",
   "execution_count": 104,
   "id": "d4078a3c-d502-4e58-a91a-6ada8b404601",
   "metadata": {},
   "outputs": [
    {
     "name": "stdin",
     "output_type": "stream",
     "text": [
      " Cihan MIZRAK 25\n",
      " 100 90\n"
     ]
    },
    {
     "name": "stdout",
     "output_type": "stream",
     "text": [
      "Name: MIZRAK, Cihan\n",
      "ID: 25\n",
      "Grade: O\n"
     ]
    }
   ],
   "source": [
    "class Person:\n",
    "    def __init__(self, firstName, lastName, idNumber):\n",
    "        self.firstName = firstName\n",
    "        self.lastName = lastName\n",
    "        self.idNumber = idNumber\n",
    "    def printPerson(self):\n",
    "        print(\"Name:\", self.lastName + \",\", self.firstName)\n",
    "        print(\"ID:\", self.idNumber)\n",
    "\n",
    "\n",
    "class Student(Person):\n",
    "    #   Class Constructor\n",
    "    #   \n",
    "    #   Parameters:\n",
    "    #   firstName - A string denoting the Person's first name.\n",
    "    #   lastName - A string denoting the Person's last name.\n",
    "    #   id - An integer denoting the Person's ID number.\n",
    "    #   scores - An array of integers denoting the Person's test scores.\n",
    "    #\n",
    "    def __init__(self, firstName, lastName, idNumber, scores):\n",
    "        self.scores = scores\n",
    "        super().__init__(firstName,lastName,idNumber)\n",
    "\n",
    "    #   Function Name: calculate\n",
    "    #   Return: A character denoting the grade.\n",
    "    #\n",
    "    def calculate(self):\n",
    "        avg = sum(self.scores) / len(self.scores)\n",
    "        \n",
    "        if avg >= 90 and avg <= 100:\n",
    "            grade = 'O'\n",
    "        elif avg >= 80 and avg <= 90:\n",
    "            grade = 'E'\n",
    "        elif avg >= 70 and avg <= 80:\n",
    "            grade = 'A'\n",
    "        elif avg >= 55 and avg <= 70:\n",
    "            grade = 'P'\n",
    "        elif avg >= 40 and avg <= 55:\n",
    "            grade = 'D'\n",
    "        else:\n",
    "            grade = 'T'\n",
    "        return grade\n",
    "\n",
    "line = input().split()\n",
    "firstName = line[0]\n",
    "lastName = line[1]\n",
    "idNum = line[2]\n",
    "\n",
    "scores = list( map(int, input().split()) )\n",
    "s = Student(firstName, lastName, idNum, scores)\n",
    "s.printPerson()\n",
    "print(\"Grade:\", s.calculate())"
   ]
  },
  {
   "cell_type": "markdown",
   "id": "3328a6e1-beb5-4fbe-9df4-bf4935ac5ed5",
   "metadata": {},
   "source": [
    "### 11- The probability of getting heads or tails in 1000 tosses."
   ]
  },
  {
   "cell_type": "code",
   "execution_count": 1,
   "id": "dd9f249c-db47-43ef-b092-27ce76d3de7e",
   "metadata": {},
   "outputs": [
    {
     "data": {
      "image/png": "[encoded data removed]",
      "text/plain": [
       "<Figure size 432x288 with 1 Axes>"
      ]
     },
     "metadata": {
      "needs_background": "light"
     },
     "output_type": "display_data"
    }
   ],
   "source": [
    "import numpy as np\n",
    "import matplotlib.pyplot as plt\n",
    "toss = 1000\n",
    "probs = [\"H\",\"T\"]\n",
    "addlist = []\n",
    "for i in range(1000):\n",
    "    hcounter = 0\n",
    "    tcounter = 0\n",
    "    for i in range(1000):\n",
    "        result = np.random.choice(probs,1).item()\n",
    "        if result == \"H\":\n",
    "            hcounter +=1\n",
    "        else:\n",
    "            tcounter +=1\n",
    "    addlist.append((hcounter,tcounter))\n",
    "x,y = [],[]\n",
    "for i in addlist:\n",
    "    x.append(i[0])\n",
    "    y.append(i[1])\n",
    "plt.hist((x,y),bins=100)\n",
    "plt.title(\"The probability of getting heads or tails in 1000 tosses.\")\n",
    "plt.ylabel(\"Count of Heads and Tails every 1000 toss\")\n",
    "plt.xlabel(\"The number of heads and tails obtained in every 1000 tosses\")\n",
    "plt.show()"
   ]
  },
  {
   "cell_type": "markdown",
   "id": "5484fe5e-477e-4585-b360-cc518b13384b",
   "metadata": {
    "tags": []
   },
   "source": [
    "### 12- Binomial Distribution"
   ]
  },
  {
   "cell_type": "markdown",
   "id": "d0a1c39d-e4bf-4bbe-9006-9881cd0090b5",
   "metadata": {},
   "source": [
    "The ratio of boys to girls for babies born in Russia is 1.09 . If there is 1 child born per birth, what proportion of Russian families with exactly 6 children will have at least 3 boys?\n",
    "\n",
    "Write a program to compute the answer using the above parameters. Then print your result, rounded to a scale of  decimal places 3. "
   ]
  },
  {
   "attachments": {
    "d116a572-e91a-492a-8fa5-4ba40c1c0ce9.png": {
     "image/png": "[encoded data removed]"
    }
   },
   "cell_type": "markdown",
   "id": "51f60e05-fec2-4281-b6ef-3ec8c896fa3d",
   "metadata": {},
   "source": [
    "![image.png](attachment:d116a572-e91a-492a-8fa5-4ba40c1c0ce9.png)"
   ]
  },
  {
   "attachments": {
    "2044b30a-eec7-4ec0-a744-fd62de4d362d.png": {
     "image/png": "[encoded data removed]"
    }
   },
   "cell_type": "markdown",
   "id": "65c5bcb2-aaaf-4654-9513-6302b417d949",
   "metadata": {},
   "source": [
    "![image.png](attachment:2044b30a-eec7-4ec0-a744-fd62de4d362d.png)"
   ]
  },
  {
   "cell_type": "code",
   "execution_count": 1,
   "id": "914d2157-fa04-49d8-ac5f-533fd9299603",
   "metadata": {},
   "outputs": [
    {
     "name": "stdin",
     "output_type": "stream",
     "text": [
      " 1.09 1\n"
     ]
    },
    {
     "name": "stdout",
     "output_type": "stream",
     "text": [
      "0.696\n"
     ]
    }
   ],
   "source": [
    "def combination(n,x):\n",
    "    \n",
    "    #factorial\n",
    "    \n",
    "    def fac(x):\n",
    "        if x == 0:\n",
    "            return 1\n",
    "        else:\n",
    "            return x * fac(x-1)\n",
    "    \n",
    "    return fac(n)/(fac(x)*fac(n-x))\n",
    "    \n",
    "    \n",
    "def binom(x,n,p):\n",
    "    q = 1-p\n",
    "    return combination(n,x)*((p)**x)*(q)**(n-x)\n",
    "\n",
    "l, r = list(map(float, input().split(\" \")))\n",
    "odds = l / r\n",
    "print(round(sum([binom(i, 6, odds / (1 + odds)) for i in range(3, 7)]), 3))\n"
   ]
  },
  {
   "cell_type": "markdown",
   "id": "02301998-60be-4a0f-83d5-8677d7b7d23e",
   "metadata": {},
   "source": [
    "### 13- Geometric Distribution"
   ]
  },
  {
   "cell_type": "markdown",
   "id": "3908c9ac-9653-4f3f-af2a-80cfd1bbc03b",
   "metadata": {},
   "source": [
    "The probabilty that a machine a defective product is 1/3.\n",
    "What is the probability that the 1st defect occurs the 5th item produced?"
   ]
  },
  {
   "cell_type": "code",
   "execution_count": null,
   "id": "0c79b60d-daf1-4301-9e8b-29b0cb85a4bf",
   "metadata": {},
   "outputs": [
    {
     "name": "stdin",
     "output_type": "stream",
     "text": [
      " 1 3\n",
      " 5\n"
     ]
    },
    {
     "name": "stdout",
     "output_type": "stream",
     "text": [
      "0.868\n"
     ]
    }
   ],
   "source": [
    "def g(n,p):\n",
    "    q = 1-p\n",
    "    return q**(n-1)*p\n",
    "\n",
    "l,r = list(map(float, input().rstrip().split(\" \")))\n",
    "n = int(input())\n",
    "odd = l/r\n",
    "print(f\"{sum([g(i,odd) for i in range(1,n+1)]):.3f}\")"
   ]
  },
  {
   "cell_type": "markdown",
   "id": "f566aa96-a557-402f-b32e-7f8c4160d4cc",
   "metadata": {},
   "source": [
    "### 14- Poisson Distribution"
   ]
  },
  {
   "cell_type": "code",
   "execution_count": 6,
   "id": "0bfe86c7-1808-4942-a8c1-685face4d906",
   "metadata": {},
   "outputs": [
    {
     "name": "stdin",
     "output_type": "stream",
     "text": [
      " 2.5\n",
      " 5\n"
     ]
    },
    {
     "data": {
      "text/plain": [
       "0.067"
      ]
     },
     "execution_count": 6,
     "metadata": {},
     "output_type": "execute_result"
    }
   ],
   "source": [
    "def poisson(k,l,e=2.71828 ):\n",
    "    def fac(x):\n",
    "        if x==0:\n",
    "            return  1\n",
    "        else:\n",
    "            return x* fac(x-1)\n",
    "        \n",
    "    result = ((l**k)*(e**-l))/(fac(k))\n",
    "    return round(result,3)\n",
    "\n",
    "\n",
    "\n",
    "l = float(input())\n",
    "k = float(input())\n",
    "\n",
    "\n",
    "\n",
    "poisson(k,l)"
   ]
  },
  {
   "cell_type": "markdown",
   "id": "c668c87a-f883-43e1-b3ce-4ae2e17b5f01",
   "metadata": {},
   "source": [
    "### 15- Normal Distribution"
   ]
  },
  {
   "cell_type": "code",
   "execution_count": 16,
   "id": "8683f9a0-4c43-4095-b6c7-275503e82cbc",
   "metadata": {},
   "outputs": [
    {
     "name": "stdout",
     "output_type": "stream",
     "text": [
      "0.401\n",
      "0.341\n"
     ]
    }
   ],
   "source": [
    "import math as m\n",
    "def cdf(mn, std, x): #cumulatif distribution function of gaussian(normal) distribution\n",
    "    return 0.5 * (1 + m.erf((x-mn)/(std*m.sqrt(2))))\n",
    "\n",
    "print(f'{cdf(20,2,19.5):.3f}')\n",
    "print(f'{cdf(20,2,22) - cdf(20,2,20):.3f}')"
   ]
  },
  {
   "cell_type": "code",
   "execution_count": null,
   "id": "0afd8439-fa7f-442f-8057-64b533b51e47",
   "metadata": {},
   "outputs": [],
   "source": []
  }
 ],
 "metadata": {
  "kernelspec": {
   "display_name": "Python 3 (ipykernel)",
   "language": "python",
   "name": "python3"
  },
  "language_info": {
   "codemirror_mode": {
    "name": "ipython",
    "version": 3
   },
   "file_extension": ".py",
   "mimetype": "text/x-python",
   "name": "python",
   "nbconvert_exporter": "python",
   "pygments_lexer": "ipython3",
   "version": "3.9.12"
  }
 },
 "nbformat": 4,
 "nbformat_minor": 5
}
