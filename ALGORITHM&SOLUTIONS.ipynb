{
 "cells": [
  {
   "cell_type": "markdown",
   "id": "c6b3640d-f4f4-4894-8544-8d6a225100d1",
   "metadata": {
    "tags": []
   },
   "source": [
    "## ALGORITHM & SOLUTIONS"
   ]
  },
  {
   "cell_type": "markdown",
   "id": "b9152005-8698-423c-883f-946722195616",
   "metadata": {
    "tags": []
   },
   "source": [
    "### 1- Create phone book and query"
   ]
  },
  {
   "cell_type": "code",
   "execution_count": 106,
   "id": "5d217814-8705-47db-b210-9bedaf6032ee",
   "metadata": {
    "collapsed": true,
    "jupyter": {
     "outputs_hidden": true
    },
    "tags": []
   },
   "outputs": [
    {
     "name": "stdin",
     "output_type": "stream",
     "text": [
      " 3\n",
      " jack 1234\n",
      " sam 3421\n",
      " john 4531\n",
      " jack\n"
     ]
    },
    {
     "name": "stdout",
     "output_type": "stream",
     "text": [
      "jack=1234\n"
     ]
    },
    {
     "name": "stdin",
     "output_type": "stream",
     "text": [
      " sam\n"
     ]
    },
    {
     "name": "stdout",
     "output_type": "stream",
     "text": [
      "sam=3421\n"
     ]
    },
    {
     "name": "stdin",
     "output_type": "stream",
     "text": [
      " holly\n"
     ]
    },
    {
     "name": "stdout",
     "output_type": "stream",
     "text": [
      "Not found\n"
     ]
    },
    {
     "ename": "KeyboardInterrupt",
     "evalue": "Interrupted by user",
     "output_type": "error",
     "traceback": [
      "\u001b[1;31m---------------------------------------------------------------------------\u001b[0m",
      "\u001b[1;31mKeyboardInterrupt\u001b[0m                         Traceback (most recent call last)",
      "Input \u001b[1;32mIn [106]\u001b[0m, in \u001b[0;36m<cell line: 15>\u001b[1;34m()\u001b[0m\n\u001b[0;32m     14\u001b[0m \u001b[38;5;28;01mwhile\u001b[39;00m \u001b[38;5;28;01mTrue\u001b[39;00m:\n\u001b[0;32m     15\u001b[0m     \u001b[38;5;28;01mtry\u001b[39;00m:\n\u001b[1;32m---> 16\u001b[0m         query \u001b[38;5;241m=\u001b[39m \u001b[38;5;28;43minput\u001b[39;49m\u001b[43m(\u001b[49m\u001b[43m)\u001b[49m\n\u001b[0;32m     18\u001b[0m         \u001b[38;5;28;01mif\u001b[39;00m query \u001b[38;5;129;01min\u001b[39;00m phone_book:\n\u001b[0;32m     19\u001b[0m             \u001b[38;5;28mprint\u001b[39m(\u001b[38;5;124mf\u001b[39m\u001b[38;5;124m\"\u001b[39m\u001b[38;5;132;01m{\u001b[39;00mquery\u001b[38;5;132;01m}\u001b[39;00m\u001b[38;5;124m=\u001b[39m\u001b[38;5;132;01m{\u001b[39;00mphone_book[query]\u001b[38;5;132;01m}\u001b[39;00m\u001b[38;5;124m\"\u001b[39m)\n",
      "File \u001b[1;32m~\\anaconda3\\lib\\site-packages\\ipykernel\\kernelbase.py:1075\u001b[0m, in \u001b[0;36mKernel.raw_input\u001b[1;34m(self, prompt)\u001b[0m\n\u001b[0;32m   1071\u001b[0m \u001b[38;5;28;01mif\u001b[39;00m \u001b[38;5;129;01mnot\u001b[39;00m \u001b[38;5;28mself\u001b[39m\u001b[38;5;241m.\u001b[39m_allow_stdin:\n\u001b[0;32m   1072\u001b[0m     \u001b[38;5;28;01mraise\u001b[39;00m StdinNotImplementedError(\n\u001b[0;32m   1073\u001b[0m         \u001b[38;5;124m\"\u001b[39m\u001b[38;5;124mraw_input was called, but this frontend does not support input requests.\u001b[39m\u001b[38;5;124m\"\u001b[39m\n\u001b[0;32m   1074\u001b[0m     )\n\u001b[1;32m-> 1075\u001b[0m \u001b[38;5;28;01mreturn\u001b[39;00m \u001b[38;5;28;43mself\u001b[39;49m\u001b[38;5;241;43m.\u001b[39;49m\u001b[43m_input_request\u001b[49m\u001b[43m(\u001b[49m\n\u001b[0;32m   1076\u001b[0m \u001b[43m    \u001b[49m\u001b[38;5;28;43mstr\u001b[39;49m\u001b[43m(\u001b[49m\u001b[43mprompt\u001b[49m\u001b[43m)\u001b[49m\u001b[43m,\u001b[49m\n\u001b[0;32m   1077\u001b[0m \u001b[43m    \u001b[49m\u001b[38;5;28;43mself\u001b[39;49m\u001b[38;5;241;43m.\u001b[39;49m\u001b[43m_parent_ident\u001b[49m\u001b[43m[\u001b[49m\u001b[38;5;124;43m\"\u001b[39;49m\u001b[38;5;124;43mshell\u001b[39;49m\u001b[38;5;124;43m\"\u001b[39;49m\u001b[43m]\u001b[49m\u001b[43m,\u001b[49m\n\u001b[0;32m   1078\u001b[0m \u001b[43m    \u001b[49m\u001b[38;5;28;43mself\u001b[39;49m\u001b[38;5;241;43m.\u001b[39;49m\u001b[43mget_parent\u001b[49m\u001b[43m(\u001b[49m\u001b[38;5;124;43m\"\u001b[39;49m\u001b[38;5;124;43mshell\u001b[39;49m\u001b[38;5;124;43m\"\u001b[39;49m\u001b[43m)\u001b[49m\u001b[43m,\u001b[49m\n\u001b[0;32m   1079\u001b[0m \u001b[43m    \u001b[49m\u001b[43mpassword\u001b[49m\u001b[38;5;241;43m=\u001b[39;49m\u001b[38;5;28;43;01mFalse\u001b[39;49;00m\u001b[43m,\u001b[49m\n\u001b[0;32m   1080\u001b[0m \u001b[43m\u001b[49m\u001b[43m)\u001b[49m\n",
      "File \u001b[1;32m~\\anaconda3\\lib\\site-packages\\ipykernel\\kernelbase.py:1120\u001b[0m, in \u001b[0;36mKernel._input_request\u001b[1;34m(self, prompt, ident, parent, password)\u001b[0m\n\u001b[0;32m   1117\u001b[0m             \u001b[38;5;28;01mbreak\u001b[39;00m\n\u001b[0;32m   1118\u001b[0m \u001b[38;5;28;01mexcept\u001b[39;00m \u001b[38;5;167;01mKeyboardInterrupt\u001b[39;00m:\n\u001b[0;32m   1119\u001b[0m     \u001b[38;5;66;03m# re-raise KeyboardInterrupt, to truncate traceback\u001b[39;00m\n\u001b[1;32m-> 1120\u001b[0m     \u001b[38;5;28;01mraise\u001b[39;00m \u001b[38;5;167;01mKeyboardInterrupt\u001b[39;00m(\u001b[38;5;124m\"\u001b[39m\u001b[38;5;124mInterrupted by user\u001b[39m\u001b[38;5;124m\"\u001b[39m) \u001b[38;5;28;01mfrom\u001b[39;00m \u001b[38;5;28mNone\u001b[39m\n\u001b[0;32m   1121\u001b[0m \u001b[38;5;28;01mexcept\u001b[39;00m \u001b[38;5;167;01mException\u001b[39;00m:\n\u001b[0;32m   1122\u001b[0m     \u001b[38;5;28mself\u001b[39m\u001b[38;5;241m.\u001b[39mlog\u001b[38;5;241m.\u001b[39mwarning(\u001b[38;5;124m\"\u001b[39m\u001b[38;5;124mInvalid Message:\u001b[39m\u001b[38;5;124m\"\u001b[39m, exc_info\u001b[38;5;241m=\u001b[39m\u001b[38;5;28;01mTrue\u001b[39;00m)\n",
      "\u001b[1;31mKeyboardInterrupt\u001b[0m: Interrupted by user"
     ]
    }
   ],
   "source": [
    "# Read the number of entries in the phone book\n",
    "n = int(input())\n",
    "\n",
    "# Create an empty phone book dictionary\n",
    "phone_book = {}\n",
    "\n",
    "# Populate the phone book\n",
    "for i in range(n):\n",
    "    entry = input().split()\n",
    "    name, phone_number = entry[0], entry[1]\n",
    "    phone_book[name] = phone_number\n",
    "\n",
    "# Process queries\n",
    "while True:\n",
    "    try:\n",
    "        query = input()\n",
    "        \n",
    "        if query in phone_book:\n",
    "            print(f\"{query}={phone_book[query]}\")\n",
    "        else:\n",
    "            print(\"Not found\")\n",
    "    except EOFError:\n",
    "        break\n",
    "        \n"
   ]
  },
  {
   "cell_type": "markdown",
   "id": "54c3db0a-f0ea-4b85-bc76-269f0ca3a3ab",
   "metadata": {},
   "source": [
    "### 2- Algorithm that finds the mean, median and mode of the values in the list"
   ]
  },
  {
   "cell_type": "code",
   "execution_count": 7,
   "id": "70d95bd6-3d78-4617-9cb6-607d52d0efac",
   "metadata": {},
   "outputs": [
    {
     "name": "stdin",
     "output_type": "stream",
     "text": [
      " 12\n",
      " 1231\n"
     ]
    },
    {
     "name": "stdout",
     "output_type": "stream",
     "text": [
      "102.58333333333333\n",
      "1231\n",
      "[1231]\n"
     ]
    }
   ],
   "source": [
    "def mean(list,n):\n",
    "    sum = 0\n",
    "    for i in list:\n",
    "        sum+=i\n",
    "    return sum/n\n",
    "        \n",
    "def median(list):\n",
    "    list.sort()\n",
    "    n = len(list)\n",
    "\n",
    "    if n % 2 == 1:\n",
    "        return list[n // 2]\n",
    "    else: \n",
    "        return (list[n // 2 - 1] + list[n // 2]) / 2\n",
    "\n",
    "def mode(data):\n",
    "    \n",
    "    data_dict = {}\n",
    "    \n",
    "    \n",
    "    for item in data:\n",
    "        if item in data_dict:\n",
    "            data_dict[item] += 1\n",
    "        else:\n",
    "            data_dict[item] = 1\n",
    "\n",
    "    # mode\n",
    "    max_count = max(data_dict.values())\n",
    "    mode_list = [key for key, value in data_dict.items() if value == max_count]\n",
    "\n",
    "    return mode_list\n",
    "    \n",
    "my_list = []\n",
    "n = int(input())\n",
    "my_list.extend([int(x) for x in input().split()])\n",
    "print(mean(my_list,n))\n",
    "print(median(my_list))\n",
    "print(mode(my_list))\n",
    "    "
   ]
  },
  {
   "cell_type": "markdown",
   "id": "831e2743-ce0f-46be-aa1a-5db96eea9cb1",
   "metadata": {},
   "source": [
    "### 3- Find Qartiles"
   ]
  },
  {
   "cell_type": "code",
   "execution_count": 5,
   "id": "506332eb-86d1-4ed3-8a3a-8a91adf1aee3",
   "metadata": {},
   "outputs": [
    {
     "name": "stdin",
     "output_type": "stream",
     "text": [
      " 9\n",
      " 1 3 4 5 \n"
     ]
    },
    {
     "name": "stdout",
     "output_type": "stream",
     "text": [
      "2\n",
      "3\n",
      "4\n"
     ]
    }
   ],
   "source": [
    "def quartiles(arr):\n",
    "    arr.sort()\n",
    "    n = len(arr)\n",
    "    \n",
    "    # Calculate Q2 (median)\n",
    "    if n % 2 == 1:\n",
    "        q2 = arr[n // 2]\n",
    "        lower_half = arr[:n // 2]\n",
    "        upper_half = arr[n // 2 + 1:]\n",
    "    else:\n",
    "        q2 = (arr[n // 2 - 1] + arr[n // 2]) / 2\n",
    "        lower_half = arr[:n // 2]\n",
    "        upper_half = arr[n // 2:]\n",
    "    \n",
    "    # Calculate Q1 (median of lower half)\n",
    "    n_lower = len(lower_half)\n",
    "    if n_lower % 2 == 1:\n",
    "        q1 = lower_half[n_lower // 2]\n",
    "    else:\n",
    "        q1 = (lower_half[n_lower // 2 - 1] + lower_half[n_lower // 2]) / 2\n",
    "    \n",
    "    # Calculate Q3 (median of upper half)\n",
    "    n_upper = len(upper_half)\n",
    "    if n_upper % 2 == 1:\n",
    "        q3 = upper_half[n_upper // 2]\n",
    "    else:\n",
    "        q3 = (upper_half[n_upper // 2 - 1] + upper_half[n_upper // 2]) / 2\n",
    "    \n",
    "    return int(q1), int(q2), int(q3)\n",
    "\n",
    "if __name__ == \"__main__\":\n",
    "    n = int(input())\n",
    "    data = list(map(int,input().rstrip().split()))\n",
    "    q1,q2,q3 = quartiles(data)\n",
    "    print(q1)\n",
    "    print(q2)\n",
    "    print(q3)\n",
    "    "
   ]
  },
  {
   "cell_type": "markdown",
   "id": "46a88010-e00e-44d3-87c8-45108ec8db36",
   "metadata": {},
   "source": [
    "### 4- In a single toss of 2 fair (evenly-weighted) six-sided dice, find the probability that the values rolled by each die will be different and the two dice have a sum of 6 ."
   ]
  },
  {
   "cell_type": "code",
   "execution_count": 107,
   "id": "3a1de9bb-6c37-43ab-8826-5ede42716586",
   "metadata": {},
   "outputs": [
    {
     "name": "stdout",
     "output_type": "stream",
     "text": [
      "1/9\n"
     ]
    }
   ],
   "source": [
    "from fractions import Fraction\n",
    "\n",
    "prop = []\n",
    "s = 0\n",
    "for i in range(1,7):\n",
    "    for j in range(1,7):\n",
    "        s+=1\n",
    "        if (i+j)==6 and i!=j:\n",
    "            prop.append((i,j))\n",
    "            \n",
    "print(Fraction(len(prop), s))\n"
   ]
  },
  {
   "cell_type": "markdown",
   "id": "a70c2278-949c-4654-bc4f-9c1ffc7fccb3",
   "metadata": {
    "tags": []
   },
   "source": [
    "### 5- The task is to find their comparison points by comparing a[0] with b[0], a[1] with b[1], and a[2] with b[2].\n",
    "\n",
    "    If a[i] > b[i], then Alice is awarded 1 point.\n",
    "    If a[i] < b[i], then Bob is awarded 1 point.\n",
    "    If a[i] = b[i], then neither person receives a point.\n",
    "    Comparison points is the total points a person earned.\n",
    "\n",
    "    Given a and b, determine their respective comparison points."
   ]
  },
  {
   "cell_type": "code",
   "execution_count": 79,
   "id": "988675a1-69ac-407c-9b0a-8b8c35cbbbed",
   "metadata": {},
   "outputs": [
    {
     "name": "stdin",
     "output_type": "stream",
     "text": [
      " 1 2 3\n",
      " 3 2 2\n"
     ]
    },
    {
     "name": "stdout",
     "output_type": "stream",
     "text": [
      "[1, 1]\n"
     ]
    }
   ],
   "source": [
    "def compareTriplets(a, b):\n",
    "    alice = 0\n",
    "    bob = 0\n",
    "\n",
    "    def alicegetpoint():\n",
    "        nonlocal alice\n",
    "        alice += 1\n",
    "\n",
    "    def bobgetpoint():\n",
    "        nonlocal bob\n",
    "        bob += 1\n",
    "\n",
    "    for i in range(len(a)):\n",
    "        if a[i] > b[i]:\n",
    "            alicegetpoint()\n",
    "        elif a[i] < b[i]:\n",
    "            bobgetpoint()\n",
    "    \n",
    "    return [alice, bob]\n",
    "\n",
    "if __name__ == '__main__':\n",
    "    a = list(map(int, input().rstrip().split()))\n",
    "    b = list(map(int, input().rstrip().split()))\n",
    "    result = compareTriplets(a, b)\n",
    "    print(result)\n"
   ]
  },
  {
   "cell_type": "markdown",
   "id": "95000b09-69db-4402-8b6f-5950f7bb7ac7",
   "metadata": {},
   "source": [
    "### 6- Calculate the hourglass sum for every hourglass in MATRIX"
   ]
  },
  {
   "cell_type": "code",
   "execution_count": 100,
   "id": "0a6c2286-2828-4535-9a61-331669788e55",
   "metadata": {},
   "outputs": [
    {
     "name": "stdout",
     "output_type": "stream",
     "text": [
      "19\n"
     ]
    }
   ],
   "source": [
    "\"\"\"\n",
    "1 1 1   1 1 0   1 0 0   0 0 0\n",
    "  1       0       0       0\n",
    "1 1 1   1 1 0   1 0 0   0 0 0\n",
    "\n",
    "0 1 0   1 0 0   0 0 0   0 0 0\n",
    "  1       1       0       0\n",
    "0 0 2   0 2 4   2 4 4   4 4 0\n",
    "\n",
    "1 1 1   1 1 0   1 0 0   0 0 0\n",
    "  0       2       4       4\n",
    "0 0 0   0 0 2   0 2 0   2 0 0\n",
    "\n",
    "0 0 2   0 2 4   2 4 4   4 4 0\n",
    "  0       0       2       0\n",
    "0 0 1   0 1 2   1 2 4   2 4 0\n",
    "\n",
    "\n",
    "max sum :19\n",
    "\n",
    "submatrix :\n",
    "\n",
    "2 4 4\n",
    "  2\n",
    "1 2 4\n",
    "\"\"\"\n",
    "\n",
    "\n",
    "\n",
    "matrix = []\n",
    "\n",
    "for _ in range(6):\n",
    "    matrix.append(list(map(int, input().rstrip().split())))\n",
    "\n",
    "\"\"\"\n",
    "EXAMPLE\n",
    " 1 1 1 0 0 0\n",
    " 0 1 0 0 0 0\n",
    " 1 1 1 0 0 0\n",
    " 0 0 2 4 4 0\n",
    " 0 0 0 2 0 0 \n",
    " 0 0 1 2 4 0\n",
    "\"\"\"\n",
    "\n",
    "def submatrix_sum(submatrix):\n",
    "    total = 0\n",
    "    \n",
    "    for row in range(len(submatrix)):\n",
    "        if row == 1:\n",
    "            submatrix[row][0] = 0\n",
    "            submatrix[row][2] = 0\n",
    "        total += sum(submatrix[row])\n",
    "    return total\n",
    "\n",
    "\n",
    "sums = []\n",
    "for i in range(4):  # 6 - 3 + 1 = 4 rows\n",
    "    for j in range(4):  # 6 - 3 + 1 = 4 columns\n",
    "        # Extract submatrices\n",
    "        submatrix = [\n",
    "            [matrix[i][j], matrix[i][j+1], matrix[i][j+2]],\n",
    "            [matrix[i+1][j], matrix[i+1][j+1], matrix[i+1][j+2]],\n",
    "            [matrix[i+2][j], matrix[i+2][j+1], matrix[i+2][j+2]]\n",
    "        ]\n",
    "        \n",
    "        sums.append(submatrix_sum(submatrix))\n",
    "        \n",
    "print(\"max sum:\", max(sums))"
   ]
  },
  {
   "cell_type": "markdown",
   "id": "5296256b-23af-4e20-a60c-7d88103c62d3",
   "metadata": {},
   "source": [
    "### 7- Time Conservation"
   ]
  },
  {
   "cell_type": "code",
   "execution_count": 122,
   "id": "70557f25-3f9b-43ea-a6d2-85c68af83df7",
   "metadata": {},
   "outputs": [
    {
     "name": "stdin",
     "output_type": "stream",
     "text": [
      " 12:01:00PM\n"
     ]
    },
    {
     "name": "stdout",
     "output_type": "stream",
     "text": [
      "12:01:00\n"
     ]
    }
   ],
   "source": [
    "\"\"\"\n",
    "\n",
    "a = \"12:01:00PM\"\n",
    "Return '12:01:00'.\n",
    "\n",
    "a = \"12:01:00AM\"\n",
    "Return '00:01:00'.\n",
    "\n",
    "\"\"\"\n",
    "\n",
    "\n",
    "def timeConversion(a):\n",
    "    \n",
    "    hour = int(a[:2])\n",
    "\n",
    "    if hour!=12 and a[-2:]==\"PM\":\n",
    "        hour +=12\n",
    "        a = str(hour) + a[2:-2] + \"PM\"\n",
    "\n",
    "    elif a[-2:]==\"AM\":\n",
    "\n",
    "        if hour == 12:\n",
    "            hour = 0\n",
    "            a = \"0\" + str(hour) + a[2:-2] + \"AM\"\n",
    "\n",
    "    print(a[:len(a)-2])\n",
    "\n",
    "\n",
    "if __name__ == \"__main__\":\n",
    "    a = input()\n",
    "    timeConversion(a)"
   ]
  },
  {
   "cell_type": "markdown",
   "id": "4b77f568-96b2-4c37-8ffd-cd66552b5495",
   "metadata": {},
   "source": [
    "### 8- Birthday Cake Candles\n",
    "    candies = [4,4,1,3]\n",
    "    The max height candies are 4 units high, There are 2 of them, so return 2."
   ]
  },
  {
   "cell_type": "code",
   "execution_count": 22,
   "id": "fcf71c9b-5bae-4a91-b740-ccd8acbadc2f",
   "metadata": {},
   "outputs": [
    {
     "name": "stdin",
     "output_type": "stream",
     "text": [
      " 82 49 82 82 41 82 15 63 38 25\n"
     ]
    },
    {
     "name": "stdout",
     "output_type": "stream",
     "text": [
      "4\n"
     ]
    }
   ],
   "source": [
    "def birthdayCakeCandles(candles):\n",
    "    c = sorted(candles)[::-1] #reverse the list\n",
    "    count = 0\n",
    "    t = c[0]\n",
    "    for i in candles:\n",
    "        if t ==i:\n",
    "            count +=1\n",
    "    print(count)\n",
    "    \n",
    "if __name__ == '__main__': \n",
    "    candles = list(map(int,input().rstrip().split()))\n",
    "    birthdayCakeCandles(candles)\n"
   ]
  }
 ],
 "metadata": {
  "kernelspec": {
   "display_name": "Python 3 (ipykernel)",
   "language": "python",
   "name": "python3"
  },
  "language_info": {
   "codemirror_mode": {
    "name": "ipython",
    "version": 3
   },
   "file_extension": ".py",
   "mimetype": "text/x-python",
   "name": "python",
   "nbconvert_exporter": "python",
   "pygments_lexer": "ipython3",
   "version": "3.9.12"
  }
 },
 "nbformat": 4,
 "nbformat_minor": 5
}
